{
 "cells": [
  {
   "cell_type": "markdown",
   "id": "f105f181",
   "metadata": {},
   "source": [
    "## Resumen del artículo de AWS sobre MLOps\n",
    "\n",
    "Las **MLOps (Machine Learning Operations)** son un conjunto de prácticas que unen el desarrollo de modelos de *machine learning* con las operaciones de TI (*Dev + Ops*), con el fin de **automatizar y estandarizar** el ciclo de vida de los proyectos de ML.  \n",
    "\n",
    "### ¿Por qué son necesarias?\n",
    "- El ciclo de vida de un modelo incluye preparación de datos, entrenamiento, validación, despliegue y monitoreo.  \n",
    "- Si se hace de forma manual, es lento, costoso y difícil de reproducir.  \n",
    "- Con MLOps, cada etapa se integra en **canalizaciones automatizadas** (pipelines) que permiten rapidez, control de versiones y confiabilidad.  \n",
    "\n",
    "### Principios clave\n",
    "1. **Control de versiones**: todos los artefactos (datos, código, modelos) deben rastrearse para permitir reproducibilidad.  \n",
    "2. **Automatización**: se automatizan tareas como ingesta de datos, entrenamiento, pruebas y despliegue.  \n",
    "3. **Actividades continuas**: integración continua, entrega continua, entrenamiento continuo y monitoreo continuo.  \n",
    "4. **Gobernanza**: asegurar privacidad de datos, seguridad en accesos, colaboración entre equipos y revisión ética de los modelos.  \n",
    "\n",
    "### Beneficios\n",
    "- **Reducción del tiempo de salida al mercado**: los modelos se despliegan más rápido y con menor costo.  \n",
    "- **Mayor productividad**: entornos estandarizados que facilitan experimentación y reuso de modelos.  \n",
    "- **Eficiencia en producción**: monitoreo centralizado, control de versiones y resolución rápida de problemas.  \n",
    "- **Escalabilidad**: soporta múltiples modelos y casos de uso en paralelo.  \n",
    "\n",
    "### Niveles de madurez\n",
    "- **Nivel 0**: procesos manuales, sin CI/CD, poca frecuencia de reentrenos.  \n",
    "- **Nivel 1**: entrenamiento continuo con automatización básica de pipelines.  \n",
    "- **Nivel 2**: orquestación completa de pipelines, registro centralizado de modelos, reentrenos frecuentes y despliegue masivo.  \n",
    "\n",
    "### Diferencia con DevOps\n",
    "- **DevOps** se centra en software tradicional (código).  \n",
    "- **MLOps** se enfoca en los retos únicos de ML: datos variables, reentrenos frecuentes, monitoreo de *drift* y gobernanza.  \n",
    "\n",
    "---\n",
    "\n",
    "**En síntesis:** MLOps asegura que los modelos de ML no solo se desarrollen, sino que también se implementen, monitoreen y mejoren de forma continua, aportando valor real y sostenible a la organización.  \n",
    "---\n",
    "## Reflexión personal\n",
    "\n",
    "En mi contexto, las MLOps serían clave para mantener modelos confiables en producción.  \n",
    "Con pipelines automatizados se podrían:\n",
    "- Reentrenar modelos de predicción de demanda con datos nuevos cada semana.  \n",
    "- Monitorear métricas de ventas e inventario para detectar *drift*.  \n",
    "- Garantizar reproducibilidad y trazabilidad de resultados.  \n",
    "\n",
    "De esta manera, los modelos no se quedan en pruebas, sino que realmente apoyan la toma de \n",
    "decisiones en la empresa.\n",
    "\n"
   ]
  }
 ],
 "metadata": {
  "language_info": {
   "name": "python"
  }
 },
 "nbformat": 4,
 "nbformat_minor": 5
}
